{
 "cells": [
  {
   "cell_type": "markdown",
   "id": "7aba06b2",
   "metadata": {},
   "source": [
    "### Tarea 2.10          "
   ]
  },
  {
   "cell_type": "code",
   "execution_count": null,
   "id": "888df20b",
   "metadata": {
    "scrolled": true
   },
   "outputs": [],
   "source": []
  },
  {
   "cell_type": "code",
   "execution_count": 30,
   "id": "3aafbd7a",
   "metadata": {},
   "outputs": [
    {
     "name": "stdout",
     "output_type": "stream",
     "text": [
      "3.00002659992\n"
     ]
    }
   ],
   "source": [
    "# calculando I1 usando la aproximacion luego de despejar\n",
    "qmax = 0.1\n",
    "N = 500000\n",
    "i = 0\n",
    "while i <= N:\n",
    "    i = i + 1\n",
    "    I1 = (qmax/N)*(((i*qmax)/N)**(-2))+ 3*((i + qmax)/N)\n",
    "print(I1)\n",
    "    \n"
   ]
  },
  {
   "cell_type": "code",
   "execution_count": 31,
   "id": "c7382b9b",
   "metadata": {},
   "outputs": [
    {
     "name": "stdout",
     "output_type": "stream",
     "text": [
      "0.9999778000848398\n"
     ]
    }
   ],
   "source": [
    "# calculando I2 usando la aproximacion luego de despejar\n",
    "qmax = 0.1\n",
    "N = 500000\n",
    "i = 0\n",
    "while i <= N:\n",
    "    i = i + 1\n",
    "    I2 = (qmax/N)*(-((i*qmax)/N)**(-2))+ ((i + qmax)/N)**(-1)\n",
    "print(I2)\n",
    "    "
   ]
  },
  {
   "cell_type": "code",
   "execution_count": 32,
   "id": "c2d361c3",
   "metadata": {},
   "outputs": [
    {
     "name": "stdout",
     "output_type": "stream",
     "text": [
      "4.00000440000484\n"
     ]
    }
   ],
   "source": [
    "#obteniendo I atravez de la suma de I1 Y I2\n",
    "I = I1 + I2\n",
    "print(I)\n"
   ]
  },
  {
   "cell_type": "code",
   "execution_count": 34,
   "id": "265504ba",
   "metadata": {},
   "outputs": [
    {
     "name": "stdout",
     "output_type": "stream",
     "text": [
      "8.000016000000001e-08\n"
     ]
    }
   ],
   "source": [
    "# Calculo de I utilizando la aproximacion\n",
    "\n",
    "qmax = 0.1\n",
    "N = 500000\n",
    "i = 0\n",
    "while i <= N:\n",
    "    i = i + 1\n",
    "    Ie = (qmax/N)*4*((i*qmax)/N)\n",
    "print(Ie)\n",
    "\n"
   ]
  },
  {
   "cell_type": "code",
   "execution_count": 36,
   "id": "fd773ee7",
   "metadata": {},
   "outputs": [
    {
     "ename": "NameError",
     "evalue": "name 'Ie' is not defined",
     "output_type": "error",
     "traceback": [
      "\u001b[1;31m---------------------------------------------------------------------------\u001b[0m",
      "\u001b[1;31mNameError\u001b[0m                                 Traceback (most recent call last)",
      "\u001b[1;32m<ipython-input-36-3636e4bbe799>\u001b[0m in \u001b[0;36m<module>\u001b[1;34m\u001b[0m\n\u001b[1;32m----> 1\u001b[1;33m \u001b[0mx\u001b[0m \u001b[1;33m=\u001b[0m \u001b[0mI\u001b[0m \u001b[1;33m-\u001b[0m \u001b[0mIe\u001b[0m\u001b[1;33m\u001b[0m\u001b[1;33m\u001b[0m\u001b[0m\n\u001b[0m\u001b[0;32m      2\u001b[0m \u001b[0mprint\u001b[0m\u001b[1;33m(\u001b[0m\u001b[0mx\u001b[0m\u001b[1;33m)\u001b[0m\u001b[1;33m\u001b[0m\u001b[1;33m\u001b[0m\u001b[0m\n",
      "\u001b[1;31mNameError\u001b[0m: name 'Ie' is not defined"
     ]
    }
   ],
   "source": [
    "x = I-Ie\n",
    "print(x)"
   ]
  },
  {
   "cell_type": "code",
   "execution_count": null,
   "id": "133a4214",
   "metadata": {},
   "outputs": [],
   "source": []
  }
 ],
 "metadata": {
  "kernelspec": {
   "display_name": "Python 3",
   "language": "python",
   "name": "python3"
  },
  "language_info": {
   "codemirror_mode": {
    "name": "ipython",
    "version": 3
   },
   "file_extension": ".py",
   "mimetype": "text/x-python",
   "name": "python",
   "nbconvert_exporter": "python",
   "pygments_lexer": "ipython3",
   "version": "3.8.8"
  }
 },
 "nbformat": 4,
 "nbformat_minor": 5
}

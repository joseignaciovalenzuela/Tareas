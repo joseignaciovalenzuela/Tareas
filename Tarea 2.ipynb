{
 "cells": [
  {
   "cell_type": "markdown",
   "id": "7aba06b2",
   "metadata": {},
   "source": [
    "### Tarea 2.10          "
   ]
  },
  {
   "cell_type": "code",
   "execution_count": 20,
   "id": "3aafbd7a",
   "metadata": {},
   "outputs": [
    {
     "name": "stdout",
     "output_type": "stream",
     "text": [
      "8224660.349251187\n"
     ]
    }
   ],
   "source": [
    "# calculando I1 usando la aproximacion luego de despejar\n",
    "qmax = 0.1\n",
    "N = 500000\n",
    "I1 = 0 # Agregado por el profesor (ver abajo)\n",
    "i = 0\n",
    "#while i <= N: Esto hace el loop N+1 veces\n",
    "while i < N:\n",
    "    i = i + 1\n",
    "    # ERROR GRAVE: Este código sólo se queda con el valor que toma I1 en la última ejecución del ciclo, hace falta un acumulador\n",
    "    #I1 = (qmax/N)*(((i*qmax)/N)**(-2))+ 3*((i + qmax)/N)  # Esta línea contiene además errores de tipeo\n",
    "    I1 += (qmax/N)*(((i*qmax)/N)**(-2) + 3*((i*qmax)/N))\n",
    "print(I1)\n",
    "    \n"
   ]
  },
  {
   "cell_type": "code",
   "execution_count": 21,
   "id": "c7382b9b",
   "metadata": {},
   "outputs": [
    {
     "name": "stdout",
     "output_type": "stream",
     "text": [
      "-8224660.329250928\n"
     ]
    }
   ],
   "source": [
    "# calculando I2 usando la aproximacion luego de despejar\n",
    "qmax = 0.1\n",
    "N = 500000\n",
    "I2 = 0 # Agregado por el profesor\n",
    "i = 0\n",
    "#while i <= N:\n",
    "while i < N:\n",
    "    i = i + 1\n",
    "    # Mismos errores\n",
    "    #I2 = (qmax/N)*(-((i*qmax)/N)**(-2))+ ((i + qmax)/N)**(-1) Errores de tipeo!\n",
    "    I2 += (qmax/N)*(-((i*qmax)/N)**(-2) + ((i*qmax)/N))\n",
    "print(I2)\n",
    "    "
   ]
  },
  {
   "cell_type": "code",
   "execution_count": 22,
   "id": "c2d361c3",
   "metadata": {},
   "outputs": [
    {
     "name": "stdout",
     "output_type": "stream",
     "text": [
      "0.020000259391963482\n"
     ]
    }
   ],
   "source": [
    "#obteniendo I atravez de la suma de I1 Y I2\n",
    "I = I1 + I2\n",
    "print(I)\n"
   ]
  },
  {
   "cell_type": "code",
   "execution_count": 23,
   "id": "265504ba",
   "metadata": {},
   "outputs": [
    {
     "name": "stdout",
     "output_type": "stream",
     "text": [
      "0.02000004\n"
     ]
    }
   ],
   "source": [
    "# Calculo de I utilizando la aproximacion\n",
    "\n",
    "qmax = 0.1\n",
    "N = 500000\n",
    "Ie = 0 # Agregado por el profesor\n",
    "i = 0\n",
    "# while i <= N:\n",
    "while i < N:\n",
    "    i = i + 1\n",
    "    # Mismo error\n",
    "    #Ie = (qmax/N)*4*((i*qmax)/N)\n",
    "    Ie += (qmax/N)*4*((i*qmax)/N)\n",
    "print(Ie)\n",
    "\n"
   ]
  },
  {
   "cell_type": "code",
   "execution_count": 24,
   "id": "fd773ee7",
   "metadata": {},
   "outputs": [
    {
     "name": "stdout",
     "output_type": "stream",
     "text": [
      "2.193919634817243e-07\n"
     ]
    }
   ],
   "source": [
    "x = I-Ie\n",
    "print(x)"
   ]
  },
  {
   "cell_type": "markdown",
   "id": "657e6fd7",
   "metadata": {},
   "source": [
    "# Calificación: 3.0"
   ]
  },
  {
   "cell_type": "markdown",
   "id": "73fedcfa",
   "metadata": {},
   "source": [
    "- No había casi comentarios en el código, lo que lo hacía difícil de leer (-2 puntos)\n",
    "- El código contiene un error grave de programación que afecta el resultado final (-1 punto)\n",
    "- Faltó responder al tercer numeral de la tarea (-1 punto)"
   ]
  }
 ],
 "metadata": {
  "kernelspec": {
   "display_name": "Python 3",
   "language": "python",
   "name": "python3"
  },
  "language_info": {
   "codemirror_mode": {
    "name": "ipython",
    "version": 3
   },
   "file_extension": ".py",
   "mimetype": "text/x-python",
   "name": "python",
   "nbconvert_exporter": "python",
   "pygments_lexer": "ipython3",
   "version": "3.8.5"
  }
 },
 "nbformat": 4,
 "nbformat_minor": 5
}

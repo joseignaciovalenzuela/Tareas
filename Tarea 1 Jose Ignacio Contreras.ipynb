{
 "cells": [
  {
   "cell_type": "markdown",
   "id": "0828e223",
   "metadata": {},
   "source": [
    "Tarea 1.7"
   ]
  },
  {
   "cell_type": "code",
   "execution_count": 2,
   "id": "49e6a387",
   "metadata": {},
   "outputs": [
    {
     "name": "stdout",
     "output_type": "stream",
     "text": [
      "1\n",
      "11\n",
      "111\n",
      "1111\n",
      "11111\n",
      "111111\n",
      "1111111\n",
      "11111111\n",
      "111111111\n",
      "1111111111\n",
      "11111111111\n",
      "111111111111\n"
     ]
    }
   ],
   "source": [
    "x = 1\n",
    "while x <= 1000000000000:\n",
    "    print(x)\n",
    "    x = 1 + x*10"
   ]
  },
  {
   "cell_type": "code",
   "execution_count": null,
   "id": "f8e8f01f",
   "metadata": {},
   "outputs": [],
   "source": []
  }
 ],
 "metadata": {
  "kernelspec": {
   "display_name": "Python 3",
   "language": "python",
   "name": "python3"
  },
  "language_info": {
   "codemirror_mode": {
    "name": "ipython",
    "version": 3
   },
   "file_extension": ".py",
   "mimetype": "text/x-python",
   "name": "python",
   "nbconvert_exporter": "python",
   "pygments_lexer": "ipython3",
   "version": "3.8.8"
  }
 },
 "nbformat": 4,
 "nbformat_minor": 5
}

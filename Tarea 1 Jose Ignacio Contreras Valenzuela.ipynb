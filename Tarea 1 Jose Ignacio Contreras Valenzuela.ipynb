{
 "cells": [
  {
   "cell_type": "code",
   "execution_count": 1,
   "id": "43105841",
   "metadata": {},
   "outputs": [
    {
     "name": "stdout",
     "output_type": "stream",
     "text": [
      "2\n"
     ]
    }
   ],
   "source": [
    "# Tarea 1.2\n",
    "\n",
    "def fun(n):\n",
    "    return 1+n  # agrege la variable  \"n\" a la funcion return para que el valor que devuelva la funcion sea valido ya que  esta es la variable que contiene la funcion.\n",
    "\n",
    "print(fun(1))"
   ]
  },
  {
   "cell_type": "code",
   "execution_count": null,
   "id": "22f7ffc8",
   "metadata": {},
   "outputs": [],
   "source": []
  }
 ],
 "metadata": {
  "kernelspec": {
   "display_name": "Python 3",
   "language": "python",
   "name": "python3"
  },
  "language_info": {
   "codemirror_mode": {
    "name": "ipython",
    "version": 3
   },
   "file_extension": ".py",
   "mimetype": "text/x-python",
   "name": "python",
   "nbconvert_exporter": "python",
   "pygments_lexer": "ipython3",
   "version": "3.8.8"
  }
 },
 "nbformat": 4,
 "nbformat_minor": 5
}
